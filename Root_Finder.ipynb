{
  "nbformat": 4,
  "nbformat_minor": 0,
  "metadata": {
    "colab": {
      "provenance": [],
      "authorship_tag": "ABX9TyP6CNDG/hEbk3oWbg99cn7a",
      "include_colab_link": true
    },
    "kernelspec": {
      "name": "python3",
      "display_name": "Python 3"
    },
    "language_info": {
      "name": "python"
    }
  },
  "cells": [
    {
      "cell_type": "markdown",
      "metadata": {
        "id": "view-in-github",
        "colab_type": "text"
      },
      "source": [
        "<a href=\"https://colab.research.google.com/github/sakuragav/Numerical-Analysis/blob/Projects/Root_Finder.ipynb\" target=\"_parent\"><img src=\"https://colab.research.google.com/assets/colab-badge.svg\" alt=\"Open In Colab\"/></a>"
      ]
    },
    {
      "cell_type": "code",
      "execution_count": 1,
      "metadata": {
        "id": "mdk1W87NBX2x"
      },
      "outputs": [],
      "source": [
        "import numpy as np"
      ]
    },
    {
      "cell_type": "code",
      "source": [
        "# Here we're going to the let the user input their equation and establish that as the letter \"z\". We need to wrap it in the eval( ) function, so the equation inputted by the user will be taken as an equation and not as a string.\n",
        "z = input(\"Enter your equation here. Please use 'np.' for certain operations: \")\n",
        "\n",
        "\n",
        "# Here we are going to\n",
        "def function(x):\n",
        "    y = eval(z)\n",
        "    return y\n",
        "\n",
        "current_error = 100\n",
        "Error = float(input(\"Please enter your desired margin of error  \"))\n",
        "\n",
        "a = eval(input(\"Please enter your MIN value in your desired interval.Please use 'np.' for certain operations: \"))\n",
        "b = eval(input(\"Please enter your MAX value in your desired interval.Please use 'np.' for certain operations: \"))\n",
        "i = 0\n",
        "while current_error >= Error:\n",
        "  fa = function(a)\n",
        "  fb = function(b)\n",
        "  if (fb * fa) < 0:\n",
        "    r = (b+a)/2\n",
        "    fr = function((r))\n",
        "    current_error = (b-a)/2\n",
        "    if function(r) < 0 and function(a) <0 :\n",
        "      a = r\n",
        "      i = i+1\n",
        "    if function(r) > 0 and function(b) > 0:\n",
        "      b = r\n",
        "      i = i+1\n",
        "    if function(r) > 0 and function(a) > 0 :\n",
        "      a = r\n",
        "      i = i+1\n",
        "    if function(r) < 0 and function(b) <0 :\n",
        "      b = r\n",
        "      i = i+1\n",
        "\n",
        "\n",
        "  else:\n",
        "    print(f'Please choose a value of a and bin which one of the values evaulted in the function is negtive')\n",
        "\n",
        "print(f'Congratulations, you have reached or surpassed your desired margin of error after', i, 'calculations')\n",
        "print(\"The root youve reached is: \", r)\n",
        "print(\"Your margin of error is:\", current_error)"
      ],
      "metadata": {
        "colab": {
          "base_uri": "https://localhost:8080/"
        },
        "id": "pz3crETZBcHK",
        "outputId": "2b748059-8c92-45c2-9c02-cee3ee26c803"
      },
      "execution_count": 4,
      "outputs": [
        {
          "output_type": "stream",
          "name": "stdout",
          "text": [
            "Enter your equation here. Please use 'np.' for certain operations: np.cos(x)\n",
            "Please enter your desired margin of error  .01\n",
            "Please enter your MIN value in your desired interval.Please use 'np.' for certain operations: 0\n",
            "Please enter your MAX value in your desired interval.Please use 'np.' for certain operations: np.pi\n",
            "Congratulations, you have reached or surpassed your desired margin of error after 9 calculations\n",
            "The root youve reached is:  1.576932249946439\n",
            "Your margin of error is: 0.006135923151542544\n"
          ]
        }
      ]
    },
    {
      "cell_type": "code",
      "source": [],
      "metadata": {
        "id": "LEdg2TvVBc1E"
      },
      "execution_count": null,
      "outputs": []
    }
  ]
}
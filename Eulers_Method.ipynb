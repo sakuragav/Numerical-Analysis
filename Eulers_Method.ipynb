{
  "nbformat": 4,
  "nbformat_minor": 0,
  "metadata": {
    "colab": {
      "provenance": [],
      "authorship_tag": "ABX9TyPQF8wWgUKo3XzMimKC9+YU",
      "include_colab_link": true
    },
    "kernelspec": {
      "name": "python3",
      "display_name": "Python 3"
    },
    "language_info": {
      "name": "python"
    }
  },
  "cells": [
    {
      "cell_type": "markdown",
      "metadata": {
        "id": "view-in-github",
        "colab_type": "text"
      },
      "source": [
        "<a href=\"https://colab.research.google.com/github/sakuragav/Numerical-Analysis/blob/Projects/Eulers_Method.ipynb\" target=\"_parent\"><img src=\"https://colab.research.google.com/assets/colab-badge.svg\" alt=\"Open In Colab\"/></a>"
      ]
    },
    {
      "cell_type": "code",
      "source": [
        "import numpy as np"
      ],
      "metadata": {
        "id": "HXTOGQdNGXQO"
      },
      "execution_count": null,
      "outputs": []
    },
    {
      "cell_type": "code",
      "source": [
        "z = input(\"enter your function to approximate: \")\n",
        "def function(x, y):\n",
        "  s = eval(z)\n",
        "  return s\n",
        "\n",
        "def euler(x,y):\n",
        "  a = y + (h*(function(x,y)))\n",
        "  return a\n",
        "\n",
        "n = int(input(\"# of steps (n): \"))\n",
        "h = eval(input(\"step amount (h): \"))\n",
        "print(\"Initial value conditions - y(x0)=y0\")\n",
        "x0 = int(input(\"x0: \"))\n",
        "y = int(input(\"y0: \"))\n",
        "print(\"x 0 : \",x0, \", y 0 : \",y)\n",
        "i = 0\n",
        "while i < n:\n",
        "  y = euler(x0,y)\n",
        "  x0 = x0 + h\n",
        "  i = i + 1\n",
        "  print(\"x\",i,\": \", x0, \",\",\"y\",i,\":\",y)\n"
      ],
      "metadata": {
        "id": "FnfS4V1doQqg",
        "colab": {
          "base_uri": "https://localhost:8080/"
        },
        "outputId": "0c33753a-d082-4a07-b1c4-f0ac05190e2b"
      },
      "execution_count": null,
      "outputs": [
        {
          "output_type": "stream",
          "name": "stdout",
          "text": [
            "enter your function to approximate: 1 - np.sin(y)\n",
            "# of steps (n): 2\n",
            "step amount (h): np.pi/2\n",
            "Initial value conditions - y(x0)=y0\n",
            "x0: 0\n",
            "y0: 0\n",
            "x 0 :  0 , y 0 :  0\n",
            "x 1 :  1.5707963267948966 , y 1 : 1.5707963267948966\n",
            "x 2 :  3.141592653589793 , y 2 : 1.5707963267948966\n"
          ]
        }
      ]
    },
    {
      "cell_type": "code",
      "source": [
        "z = input(\"enter your function to approximate: \")\n",
        "def function(x, y):\n",
        "  s = eval(z)\n",
        "  return s\n",
        "\n",
        "def euler(x,y):\n",
        "  a = y + (h*(function(x,y)))\n",
        "  return a\n",
        "choice = input(\"Calculate based on final x value (1) or amount of steps (2): \")\n",
        "if choice == '1':\n",
        "  x = eval(input('x value to approximate: '))\n",
        "  n = eval(input('amount of steps: '))\n",
        "  h = x/n\n",
        "\n",
        "else:\n",
        "  n = int(input(\"# of steps (n): \"))\n",
        "  h = eval(input(\"step amount (h): \"))\n",
        "\n",
        "print(\"Initial value conditions - y(x0)=y0\")\n",
        "x0 = int(input(\"x0: \"))\n",
        "y = int(input(\"y0: \"))\n",
        "print(\"x 0 : \",x0, \", y 0 : \",y)\n",
        "i = 0\n",
        "while i < n:\n",
        "  y = euler(x0,y)\n",
        "  x0 = x0 + h\n",
        "  i = i + 1\n",
        "  print(\"x\",i,\": \", x0, \",\",\"y\",i,\":\",y)\n"
      ],
      "metadata": {
        "colab": {
          "base_uri": "https://localhost:8080/"
        },
        "outputId": "18fa2576-6035-46f5-e54f-a3a36a0daa1d",
        "id": "3Wm7AKoGR8Vf"
      },
      "execution_count": null,
      "outputs": [
        {
          "output_type": "stream",
          "name": "stdout",
          "text": [
            "enter your function to approximate: 1 - np.sin(y)\n",
            "Calculate based on final x value (1) or amount of steps (2): 1\n",
            "x value to approximate: np.pi\n",
            "amount of steps: 8\n",
            "Initial value conditions - y(x0)=y0\n",
            "x0: 0\n",
            "y0: 0\n",
            "x 0 :  0 , y 0 :  0\n",
            "x 1 :  0.39269908169872414 , y 1 : 0.39269908169872414\n",
            "x 2 :  0.7853981633974483 , y 2 : 0.6351187309263617\n",
            "x 3 :  1.1780972450961724 , y 3 : 0.7948400122040822\n",
            "x 4 :  1.5707963267948966 , y 4 : 0.9072495122076026\n",
            "x 5 :  1.9634954084936207 , y 5 : 0.9905752876356728\n",
            "x 6 :  2.356194490192345 , y 6 : 1.0548438323666514\n",
            "x 7 :  2.748893571891069 , y 7 : 1.105964145764593\n",
            "x 8 :  3.141592653589793 , y 8 : 1.1476307722710828\n"
          ]
        }
      ]
    }
  ]
}
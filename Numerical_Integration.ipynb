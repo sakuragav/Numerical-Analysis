{
  "nbformat": 4,
  "nbformat_minor": 0,
  "metadata": {
    "colab": {
      "provenance": [],
      "authorship_tag": "ABX9TyOhupgRV/eafXqy3b+m+y8+",
      "include_colab_link": true
    },
    "kernelspec": {
      "name": "python3",
      "display_name": "Python 3"
    },
    "language_info": {
      "name": "python"
    }
  },
  "cells": [
    {
      "cell_type": "markdown",
      "metadata": {
        "id": "view-in-github",
        "colab_type": "text"
      },
      "source": [
        "<a href=\"https://colab.research.google.com/github/sakuragav/Numerical-Analysis/blob/Projects/Numerical_Integration.ipynb\" target=\"_parent\"><img src=\"https://colab.research.google.com/assets/colab-badge.svg\" alt=\"Open In Colab\"/></a>"
      ]
    },
    {
      "cell_type": "code",
      "execution_count": 1,
      "metadata": {
        "id": "Q4a6VT-DA9Mk"
      },
      "outputs": [],
      "source": [
        "import numpy as np"
      ]
    },
    {
      "cell_type": "code",
      "source": [
        "import numpy as np\n",
        "\n",
        " # Here we're going to the let the user input their equation and establish that as the letter \"z\". We need to wrap it in the eval( ) function, so the equation inputted by the user will be taken as an equation and not as a string.\n",
        "z = input(\"Enter your equation here. \")\n",
        "\n",
        "\n",
        "a = eval(input(\"Please enter your MIN value in your desired interval.\"))\n",
        "\n",
        "b = eval(input(\"Please enter your MAX value in your desired interval. \"))\n",
        "\n",
        "M = float(input(\"Please choose an upperbound on the second derivative of your function\"))\n",
        "\n",
        "error = float(input(\"Please put in your desried error\"))\n",
        "\n",
        "\n",
        "def dblprime(x):\n",
        "  n = (4*np.exp(x**2)*x**2) + 2*np.exp(x**2)\n",
        "  return n\n",
        "\n",
        "\n",
        "\n",
        "# Here we are going to\n",
        "def f(x):\n",
        "  y = eval(z)\n",
        "  return y\n",
        "\n",
        "'''\n",
        "def integral(r,t):\n",
        "  l = ((b-a)/2)*(f(t) + f(r))\n",
        "  print(\"integral:\",l )\n",
        "\n",
        "errora = dblprime(a)\n",
        "\n",
        "errorb = dblprime(b)\n",
        "'''\n",
        "'''\n",
        "if errora > errorb:\n",
        "  h = round(((error*12)/((b-a)*M))**(1/2),6)\n",
        "else:\n",
        "  h = round(((error*12)/((b-a)*M))**(1/2),6)\n",
        "\n",
        "'''\n",
        "h = ((error*12)/((b-a)*M))**(1/2)\n",
        "\n",
        "integral = 0\n",
        "\n",
        "length = int((b-a)/h)\n",
        "\n",
        "x0 = 0\n",
        "for i in range(0,length):\n",
        "  part = (.5)*(f(x0)+f(x0+h))*h\n",
        "  integral = integral + part\n",
        "  x0 = x0+h\n",
        "\n",
        "\n",
        "\n",
        "\n",
        "print(\"Number of sub intervals: \", length)\n",
        "print(\"h:\",h)\n",
        "print(\"Definite integral: \", integral)\n",
        "print(\"Desired Error: \", error)\n"
      ],
      "metadata": {
        "colab": {
          "base_uri": "https://localhost:8080/"
        },
        "id": "3J8VdNdBA-fm",
        "outputId": "d936569d-00f1-4e8c-80a9-c683fa8ddf12"
      },
      "execution_count": 2,
      "outputs": [
        {
          "output_type": "stream",
          "name": "stdout",
          "text": [
            "Enter your equation here. np.exp(x**2)\n",
            "Please enter your MIN value in your desired interval.0\n",
            "Please enter your MAX value in your desired interval. 1\n",
            "Please choose an upperbound on the second derivative of your function18\n",
            "Please put in your desried error.01\n",
            "Number of sub intervals:  12\n",
            "h: 0.0816496580927726\n",
            "Definite integral:  1.4116590253425827\n",
            "Desired Error:  0.01\n"
          ]
        }
      ]
    },
    {
      "cell_type": "code",
      "source": [],
      "metadata": {
        "id": "whUgtzEbBA7S"
      },
      "execution_count": null,
      "outputs": []
    }
  ]
}